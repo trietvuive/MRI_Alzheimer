{
 "cells": [
  {
   "cell_type": "code",
   "execution_count": 3,
   "id": "1f95625a",
   "metadata": {},
   "outputs": [
    {
     "name": "stderr",
     "output_type": "stream",
     "text": [
      "2022-04-30 23:51:02.431039: W tensorflow/stream_executor/platform/default/dso_loader.cc:64] Could not load dynamic library 'libcudart.so.11.0'; dlerror: libcudart.so.11.0: cannot open shared object file: No such file or directory\n",
      "2022-04-30 23:51:02.431063: I tensorflow/stream_executor/cuda/cudart_stub.cc:29] Ignore above cudart dlerror if you do not have a GPU set up on your machine.\n"
     ]
    }
   ],
   "source": [
    "import numpy as np\n",
    "from glob import glob\n",
    "import matplotlib.image as mpimg\n",
    "import matplotlib.pyplot as plt\n",
    "from tensorflow.keras.utils import image_dataset_from_directory\n",
    "from sklearn.linear_model import LogisticRegression\n",
    "from skimage.transform import resize\n",
    "from sklearn.model_selection import train_test_split\n",
    "from sklearn.linear_model import LogisticRegression"
   ]
  },
  {
   "cell_type": "code",
   "execution_count": 5,
   "id": "7cf7b79f",
   "metadata": {},
   "outputs": [],
   "source": [
    "# Get images' names\n",
    "non_demented = glob('./data/Non_Demented/*.jpg')\n",
    "mild_demented = glob('./data/Mild_Demented/*.jpg')\n",
    "moderate_demented = glob('./data/Moderate_Demented/*.jpg')\n",
    "very_mild_demented = glob('./data/Very_Mild_Demented/*.jpg')\n",
    "num_classes = 4\n",
    "image_size = (108,108)"
   ]
  },
  {
   "cell_type": "code",
   "execution_count": 6,
   "id": "37435e94",
   "metadata": {},
   "outputs": [],
   "source": [
    "def view_image(filename):\n",
    "    img = mpimg.imread(filename)\n",
    "    img = img[10:118, 10:118]\n",
    "    plt.imshow(img)\n",
    "    print(f'Image shape: {img.shape}')\n"
   ]
  },
  {
   "cell_type": "code",
   "execution_count": 7,
   "id": "9aabc50e",
   "metadata": {},
   "outputs": [
    {
     "name": "stdout",
     "output_type": "stream",
     "text": [
      "Total amount of non_demented: 3200\n"
     ]
    }
   ],
   "source": [
    "print(f'Total amount of non_demented: {len(non_demented)}')\n",
    "# view_image(non_demented[0])"
   ]
  },
  {
   "cell_type": "code",
   "execution_count": 8,
   "id": "f8034413",
   "metadata": {},
   "outputs": [
    {
     "data": {
      "image/png": "[encoded data removed]",
      "text/plain": [
       "<Figure size 432x288 with 1 Axes>"
      ]
     },
     "metadata": {
      "needs_background": "light"
     },
     "output_type": "display_data"
    }
   ],
   "source": [
    "fig = plt.figure()\n",
    "ax = fig.add_axes([0,0,1,1])\n",
    "size = [len(non_demented), len(very_mild_demented), len(mild_demented), len(moderate_demented)]\n",
    "class_names = ['Non Demented', 'Very Mild Demented', 'Mild Demented', 'Moderate Demented']\n",
    "ax.bar(class_names,size)\n",
    "plt.show()"
   ]
  },
  {
   "cell_type": "code",
   "execution_count": 9,
   "id": "528144cc",
   "metadata": {},
   "outputs": [],
   "source": [
    "# np.set_printoptions(threshold=np.inf)\n",
    "def extract_feature(dir_path):\n",
    "    img = mpimg.imread(dir_path)\n",
    "    img = img[10:118, 10:118] # photoshopping some values to avoid GPU going brrr\n",
    "    img = img / 255.0  # normalize pixel values\n",
    "    # print(img.shape)\n",
    "    img = resize(img, (128, 128, 3))  # convert all images to (128x128x3)\n",
    "    return img\n",
    "\n",
    "# print(extract_feature(\"data/Non_Demented/non.jpg\"))\n",
    "all_data =  np.array([extract_feature(filename) for filename in non_demented] + \\\n",
    "            [extract_feature(filename) for filename in mild_demented] + \\\n",
    "            [extract_feature(filename) for filename in moderate_demented] + \\\n",
    "            [extract_feature(filename) for filename in very_mild_demented])\n",
    "#Fix this later\n",
    "y = np.array([0] * len(non_demented) + [1] * len(mild_demented) + [2] * len(moderate_demented) + [3] * len(very_mild_demented))\n",
    "X_train, X_rem, y_train, y_rem = train_test_split(all_data, y, train_size = 0.8)\n",
    "X_valid, X_test, y_valid, y_test = train_test_split(X_rem, y_rem, train_size = 0.5)\n",
    "# print(f\"Length of training set: {len(X_train)}\")\n",
    "# print(f\"Length of validation set: {len(X_valid)}\")\n",
    "# print(f\"Length of test set: {len(X_test)}\")\n",
    "X_train_collapse = X_train.reshape(X_train.shape[0], -1)\n",
    "X_valid_collapse = X_valid.reshape(X_valid.shape[0], -1)\n",
    "X_test_collapse = X_test.reshape(X_test.shape[0], -1)"
   ]
  },
  {
   "cell_type": "code",
   "execution_count": 15,
   "id": "f1794f77",
   "metadata": {},
   "outputs": [],
   "source": [
    "# SVM\n",
    "from sklearn import svm\n",
    "\n",
    "# Can try out different kernel functions\n",
    "svc = svm.SVC(probability=False, kernel=\"linear\")\n",
    "svc.fit(X_train_collapse, y_train)\n",
    "\n",
    "yhat_train = svc.predict(X_train_collapse)\n",
    "acc = np.mean(yhat_train == y_train)\n",
    "print('Accuaracy = {0:f}'.format(acc))"
   ]
  },
  {
   "cell_type": "code",
   "execution_count": null,
   "id": "b5e0af37",
   "metadata": {},
   "outputs": [
    {
     "ename": "ImportError",
     "evalue": "cannot import name 'BatchNormalization' from 'keras.layers.normalization' (/home/aneesh/.local/lib/python3.10/site-packages/keras/layers/normalization/__init__.py)",
     "output_type": "error",
     "traceback": [
      "\u001b[0;31m---------------------------------------------------------------------------\u001b[0m",
      "\u001b[0;31mImportError\u001b[0m                               Traceback (most recent call last)",
      "\u001b[1;32m/home/aneesh/Documents/Classes/Machine Learning/MRI_Alzheimer/notebook.ipynb Cell 8'\u001b[0m in \u001b[0;36m<cell line: 6>\u001b[0;34m()\u001b[0m\n\u001b[1;32m      <a href='vscode-notebook-cell:/home/aneesh/Documents/Classes/Machine%20Learning/MRI_Alzheimer/notebook.ipynb#ch0000007?line=3'>4</a>\u001b[0m \u001b[39mfrom\u001b[39;00m \u001b[39mkeras\u001b[39;00m\u001b[39m.\u001b[39;00m\u001b[39mlayers\u001b[39;00m \u001b[39mimport\u001b[39;00m Dense, Dropout, Flatten\n\u001b[1;32m      <a href='vscode-notebook-cell:/home/aneesh/Documents/Classes/Machine%20Learning/MRI_Alzheimer/notebook.ipynb#ch0000007?line=4'>5</a>\u001b[0m \u001b[39mfrom\u001b[39;00m \u001b[39mkeras\u001b[39;00m\u001b[39m.\u001b[39;00m\u001b[39mlayers\u001b[39;00m \u001b[39mimport\u001b[39;00m Conv2D, MaxPooling2D\n\u001b[0;32m----> <a href='vscode-notebook-cell:/home/aneesh/Documents/Classes/Machine%20Learning/MRI_Alzheimer/notebook.ipynb#ch0000007?line=5'>6</a>\u001b[0m \u001b[39mfrom\u001b[39;00m \u001b[39mkeras\u001b[39;00m\u001b[39m.\u001b[39;00m\u001b[39mlayers\u001b[39;00m\u001b[39m.\u001b[39;00m\u001b[39mnormalization\u001b[39;00m \u001b[39mimport\u001b[39;00m BatchNormalization\n\u001b[1;32m      <a href='vscode-notebook-cell:/home/aneesh/Documents/Classes/Machine%20Learning/MRI_Alzheimer/notebook.ipynb#ch0000007?line=6'>7</a>\u001b[0m \u001b[39mfrom\u001b[39;00m \u001b[39mkeras\u001b[39;00m\u001b[39m.\u001b[39;00m\u001b[39mlayers\u001b[39;00m\u001b[39m.\u001b[39;00m\u001b[39madvanced_activations\u001b[39;00m \u001b[39mimport\u001b[39;00m LeakyReLU\n\u001b[1;32m      <a href='vscode-notebook-cell:/home/aneesh/Documents/Classes/Machine%20Learning/MRI_Alzheimer/notebook.ipynb#ch0000007?line=8'>9</a>\u001b[0m MRI_model \u001b[39m=\u001b[39m Sequential()\n",
      "\u001b[0;31mImportError\u001b[0m: cannot import name 'BatchNormalization' from 'keras.layers.normalization' (/home/aneesh/.local/lib/python3.10/site-packages/keras/layers/normalization/__init__.py)"
     ]
    }
   ],
   "source": [
    "# Neural Networks (CNN)\n",
    "import keras\n",
    "from keras.models import Sequential,Input,Model\n",
    "from keras.layers import Dense, Dropout, Flatten\n",
    "from keras.layers import Conv2D, MaxPooling2D\n",
    "from keras.layers.normalization import BatchNormalization\n",
    "from keras.layers.advanced_activations import LeakyReLU\n",
    "\n",
    "MRI_model = Sequential()\n",
    "MRI_model.add()"
   ]
  },
  {
   "cell_type": "code",
   "execution_count": 10,
   "id": "67db8d4e",
   "metadata": {},
   "outputs": [
    {
     "name": "stdout",
     "output_type": "stream",
     "text": [
      "(5120, 49152)\n",
      "(640, 49152)\n",
      "(640, 49152)\n",
      "(5120,)\n",
      "(640,)\n",
      "(640,)\n"
     ]
    },
    {
     "name": "stderr",
     "output_type": "stream",
     "text": [
      "/home/aneesh/.local/lib/python3.10/site-packages/sklearn/linear_model/_sag.py:352: ConvergenceWarning: The max_iter was reached which means the coef_ did not converge\n",
      "  warnings.warn(\n"
     ]
    }
   ],
   "source": [
    "# Logistic Regression\n",
    "\n",
    "# activation functions \n",
    "\n",
    "print(X_train_collapse.shape)\n",
    "print(X_valid_collapse.shape) \n",
    "print(X_test_collapse.shape)\n",
    "print(y_train.shape)\n",
    "print(y_valid.shape)\n",
    "print(y_test.shape)\n",
    "\n",
    "#used sag solver\n",
    "#set iterations to 100 first\n",
    "\n",
    "logreg = LogisticRegression(max_iter=100, multi_class=\"multinomial\", solver=\"sag\")\n",
    "logreg.fit(X_train_collapse, y_train)\n",
    "y_val_pred = logreg.predict(X_valid_collapse)"
   ]
  },
  {
   "cell_type": "code",
   "execution_count": 14,
   "id": "7ee85d75",
   "metadata": {},
   "outputs": [
    {
     "name": "stdout",
     "output_type": "stream",
     "text": [
      "Accuaracy = 0.998437\n",
      "Accuaracy = 0.954688\n",
      "Accuaracy = 0.945312\n"
     ]
    }
   ],
   "source": [
    "# Tests\n",
    "\n",
    "# Also do the logreg classification tests \n",
    "\n",
    "yhat = logreg.predict(X_train_collapse)\n",
    "acc = np.mean(yhat == y_train)\n",
    "print('Accuaracy = {0:f}'.format(acc))\n",
    "\n",
    "yhat_val = logreg.predict(X_valid_collapse)\n",
    "acc = np.mean(yhat_val == y_valid)\n",
    "print('Accuaracy = {0:f}'.format(acc))\n",
    "\n",
    "yhat_test = logreg.predict(X_test_collapse)\n",
    "acc = np.mean(yhat_test == y_test)\n",
    "print('Accuaracy = {0:f}'.format(acc))\n",
    "\n",
    "# Data logging\n"
   ]
  },
  {
   "cell_type": "code",
   "execution_count": 39,
   "id": "7b95c062",
   "metadata": {},
   "outputs": [],
   "source": [
    "# For fun, PCA"
   ]
  },
  {
   "cell_type": "code",
   "execution_count": null,
   "id": "c1eccc6f",
   "metadata": {},
   "outputs": [],
   "source": [
    "# FOR EVEN MORE FUN, get the average brain scan"
   ]
  }
 ],
 "metadata": {
  "kernelspec": {
   "display_name": "Python 3",
   "language": "python",
   "name": "python3"
  },
  "language_info": {
   "codemirror_mode": {
    "name": "ipython",
    "version": 3
   },
   "file_extension": ".py",
   "mimetype": "text/x-python",
   "name": "python",
   "nbconvert_exporter": "python",
   "pygments_lexer": "ipython3",
   "version": "3.10.4"
  }
 },
 "nbformat": 4,
 "nbformat_minor": 5
}
