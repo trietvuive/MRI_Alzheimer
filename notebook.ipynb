{
 "cells": [
  {
   "cell_type": "code",
   "execution_count": 30,
   "id": "1f95625a",
   "metadata": {},
   "outputs": [],
   "source": [
    "import numpy as np\n",
    "from glob import glob\n",
    "import matplotlib.image as mpimg\n",
    "import matplotlib.pyplot as plt"
   ]
  },
  {
   "cell_type": "code",
   "execution_count": 31,
   "id": "7cf7b79f",
   "metadata": {},
   "outputs": [],
   "source": [
    "# Get images' names\n",
    "non_demented = glob('./data/Non_Demented/*.jpg')\n",
    "mild_demented = glob('./data/Mild_Demented/*.jpg')\n",
    "moderate_demented = glob('./data/Moderate_Demented/*.jpg')\n",
    "very_mild_demented = glob('./data/Very_Mild_Demented/*.jpg')"
   ]
  },
  {
   "cell_type": "code",
   "execution_count": 33,
   "id": "658b2359",
   "metadata": {},
   "outputs": [],
   "source": [
    "def view_image(filename):\n",
    "    img = mpimg.imread(filename)\n",
    "    plt.imshow(img)\n",
    "    print(f'Image shape: {img.shape}')\n"
   ]
  },
  {
   "cell_type": "code",
   "execution_count": null,
   "id": "5e054408",
   "metadata": {},
   "outputs": [],
   "source": [
    "print(f'Total amount of non_demented: {len(non_demented)}')\n",
    "view_image(no)"
   ]
  }
 ],
 "metadata": {
  "kernelspec": {
   "display_name": "Python 3",
   "language": "python",
   "name": "python3"
  },
  "language_info": {
   "codemirror_mode": {
    "name": "ipython",
    "version": 3
   },
   "file_extension": ".py",
   "mimetype": "text/x-python",
   "name": "python",
   "nbconvert_exporter": "python",
   "pygments_lexer": "ipython3",
   "version": "3.9.12"
  }
 },
 "nbformat": 4,
 "nbformat_minor": 5
}
